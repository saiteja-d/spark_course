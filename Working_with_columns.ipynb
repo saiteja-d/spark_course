{
  "nbformat": 4,
  "nbformat_minor": 0,
  "metadata": {
    "colab": {
      "name": "Working_with_columns.ipynb",
      "version": "0.3.2",
      "provenance": [],
      "collapsed_sections": [],
      "include_colab_link": true
    },
    "kernelspec": {
      "display_name": "Python 3",
      "language": "python",
      "name": "python3"
    }
  },
  "cells": [
    {
      "cell_type": "markdown",
      "metadata": {
        "id": "view-in-github",
        "colab_type": "text"
      },
      "source": [
        "<a href=\"https://colab.research.google.com/github/saiteja-d/spark_course/blob/master/Working_with_columns.ipynb\" target=\"_parent\"><img src=\"https://colab.research.google.com/assets/colab-badge.svg\" alt=\"Open In Colab\"/></a>"
      ]
    },
    {
      "metadata": {
        "colab_type": "text",
        "id": "8qf-TmnsBgXd"
      },
      "cell_type": "markdown",
      "source": [
        "# Working with columns"
      ]
    },
    {
      "metadata": {
        "colab_type": "text",
        "id": "Dd6t0uFzuR4X"
      },
      "cell_type": "markdown",
      "source": [
        "## Download and install Spark"
      ]
    },
    {
      "metadata": {
        "colab_type": "code",
        "id": "zToS5PqxBXpK",
        "colab": {}
      },
      "cell_type": "code",
      "source": [
        "!ls"
      ],
      "execution_count": 0,
      "outputs": []
    },
    {
      "metadata": {
        "colab_type": "code",
        "id": "tt7ZS1_wGgjn",
        "colab": {}
      },
      "cell_type": "code",
      "source": [
        "#!apt-get update\n",
        "#!apt-get install openjdk-8-jdk-headless -qq > /dev/null\n",
        "#!wget -q http://archive.apache.org/dist/spark/spark-2.3.1/spark-2.3.1-bin-hadoop2.7.tgz\n",
        "#!tar xf spark-2.3.1-bin-hadoop2.7.tgz\n",
        "#!pip install -q findspark"
      ],
      "execution_count": 0,
      "outputs": []
    },
    {
      "metadata": {
        "colab_type": "text",
        "id": "FEuEkV0BlzAD"
      },
      "cell_type": "markdown",
      "source": [
        "## Setup environment"
      ]
    },
    {
      "metadata": {
        "colab_type": "code",
        "id": "sdOOq4twHN1K",
        "colab": {
          "base_uri": "https://localhost:8080/",
          "height": 216
        },
        "outputId": "7489abad-08cc-4940-de67-ad64fbfeb4d5"
      },
      "cell_type": "code",
      "source": [
        "import os\n",
        "os.environ[\"JAVA_HOME\"] = \"/usr/lib/jvm/java-8-openjdk-amd64\"\n",
        "os.environ[\"SPARK_HOME\"] = \"/content/spark-2.3.1-bin-hadoop2.7\"\n",
        "\n",
        "import findspark\n",
        "findspark.init()\n",
        "from pyspark import SparkContext\n",
        "sc = SparkContext.getOrCreate()\n",
        "\n",
        "import pyspark\n",
        "from pyspark.sql import SparkSession\n",
        "spark = SparkSession.builder.getOrCreate() \n",
        "spark"
      ],
      "execution_count": 2,
      "outputs": [
        {
          "output_type": "execute_result",
          "data": {
            "text/html": [
              "\n",
              "            <div>\n",
              "                <p><b>SparkSession - in-memory</b></p>\n",
              "                \n",
              "        <div>\n",
              "            <p><b>SparkContext</b></p>\n",
              "\n",
              "            <p><a href=\"http://d14c3507e891:4043\">Spark UI</a></p>\n",
              "\n",
              "            <dl>\n",
              "              <dt>Version</dt>\n",
              "                <dd><code>v2.3.1</code></dd>\n",
              "              <dt>Master</dt>\n",
              "                <dd><code>local[*]</code></dd>\n",
              "              <dt>AppName</dt>\n",
              "                <dd><code>pyspark-shell</code></dd>\n",
              "            </dl>\n",
              "        </div>\n",
              "        \n",
              "            </div>\n",
              "        "
            ],
            "text/plain": [
              "<pyspark.sql.session.SparkSession at 0x7f9cab97a940>"
            ]
          },
          "metadata": {
            "tags": []
          },
          "execution_count": 2
        }
      ]
    },
    {
      "metadata": {
        "colab_type": "text",
        "id": "0ysUlfFrN5OD"
      },
      "cell_type": "markdown",
      "source": [
        "## Downloading and preprocessing Chicago's Reported Crime Data"
      ]
    },
    {
      "metadata": {
        "colab_type": "code",
        "id": "FDtw5Hy3N-pV",
        "colab": {}
      },
      "cell_type": "code",
      "source": [
        "#!wget https://data.cityofchicago.org/api/views/ijzp-q8t2/rows.csv?accessType=DOWNLOAD\n",
        "#!ls -l"
      ],
      "execution_count": 0,
      "outputs": []
    },
    {
      "metadata": {
        "colab_type": "code",
        "id": "v4P5mMONYyVd",
        "colab": {}
      },
      "cell_type": "code",
      "source": [
        "#!mv rows.csv\\?accessType\\=DOWNLOAD reported-crimes.csv\n",
        "#!ls -l"
      ],
      "execution_count": 0,
      "outputs": []
    },
    {
      "metadata": {
        "colab_type": "code",
        "id": "9-1cK0nPNS95",
        "colab": {
          "base_uri": "https://localhost:8080/",
          "height": 264
        },
        "outputId": "dba1159e-dc19-49cd-e5cb-cc6cf4098a8a"
      },
      "cell_type": "code",
      "source": [
        "from pyspark.sql.functions import to_timestamp,col,lit\n",
        "rc = spark.read.csv('reported-crimes.csv',header=True).withColumn('Date',to_timestamp(col('Date'),'MM/dd/yyyy hh:mm:ss a')).filter(col('Date') <= lit('2018-11-11'))\n",
        "rc.show(5)"
      ],
      "execution_count": 3,
      "outputs": [
        {
          "output_type": "stream",
          "text": [
            "+-------+-----------+-------------------+--------------------+----+-------------+--------------------+--------------------+------+--------+----+--------+----+--------------+--------+------------+------------+----+--------------------+------------+-------------+--------------------+\n",
            "|     ID|Case Number|               Date|               Block|IUCR| Primary Type|         Description|Location Description|Arrest|Domestic|Beat|District|Ward|Community Area|FBI Code|X Coordinate|Y Coordinate|Year|          Updated On|    Latitude|    Longitude|            Location|\n",
            "+-------+-----------+-------------------+--------------------+----+-------------+--------------------+--------------------+------+--------+----+--------+----+--------------+--------+------------+------------+----+--------------------+------------+-------------+--------------------+\n",
            "|5705297|   HN501051|2007-07-31 19:01:52|  038XX S KEDZIE AVE|0460|      BATTERY|              SIMPLE|              STREET| false|   false|0913|     009|  12|            58|     08B|     1155661|     1879148|2007|02/28/2018 03:56:...|41.824177767|-87.704441353|(41.824177767, -8...|\n",
            "|5705300|   HN514327|2007-08-06 18:00:00|020XX N OAK PARK AVE|2825|OTHER OFFENSE|HARASSMENT BY TEL...|           RESIDENCE| false|    true|2512|     025|  36|            25|      26|     1130753|     1912894|2007|02/28/2018 03:56:...|41.917245786|-87.795046046|(41.917245786, -8...|\n",
            "|5705302|   HN508549|2007-08-03 20:00:00|027XX N LAKE SHOR...|0810|        THEFT|           OVER $500|              STREET| false|   false|2333|     019|  43|             7|      06|     1173824|     1918570|2007|02/28/2018 03:56:...|41.931970101|-87.636633403|(41.931970101, -8...|\n",
            "|5705306|   HN514231|2007-08-03 15:00:00|    100XX W OHARE ST|2820|OTHER OFFENSE|    TELEPHONE THREAT|    AIRPORT/AIRCRAFT| false|    true|1651|     016|  41|            76|      26|     1100658|     1934241|2007|02/28/2018 03:56:...|41.976290414|-87.905227221|(41.976290414, -8...|\n",
            "|5705308|   HN507817|2007-08-04 01:34:58|     030XX W 25TH ST|0460|      BATTERY|              SIMPLE|              STREET|  true|   false|1033|     010|  12|            30|     08B|     1156675|     1887251|2007|02/28/2018 03:56:...| 41.84639294|-87.700502285|(41.84639294, -87...|\n",
            "+-------+-----------+-------------------+--------------------+----+-------------+--------------------+--------------------+------+--------+----+--------+----+--------------+--------+------------+------------+----+--------------------+------------+-------------+--------------------+\n",
            "only showing top 5 rows\n",
            "\n"
          ],
          "name": "stdout"
        }
      ]
    },
    {
      "metadata": {
        "colab_type": "text",
        "id": "mI_zYOVpf2yK"
      },
      "cell_type": "markdown",
      "source": [
        "## Working with columns"
      ]
    },
    {
      "metadata": {
        "colab_type": "text",
        "id": "WvOfJmzhf0kG"
      },
      "cell_type": "markdown",
      "source": [
        "**Display only the first 5 rows of the column name IUCR **"
      ]
    },
    {
      "metadata": {
        "colab_type": "code",
        "id": "808f1HzwgDyh",
        "outputId": "073849b2-4f5e-4413-8617-38598e3076c8",
        "colab": {
          "base_uri": "https://localhost:8080/",
          "height": 80
        }
      },
      "cell_type": "code",
      "source": [
        "ls\n"
      ],
      "execution_count": 0,
      "outputs": [
        {
          "output_type": "stream",
          "text": [
            "reported-crimes.csv  \u001b[0m\u001b[01;34mspark-2.3.1-bin-hadoop2.7\u001b[0m/     \u001b[01;34mspark-warehouse\u001b[0m/\n",
            "\u001b[01;34msample_data\u001b[0m/         spark-2.3.1-bin-hadoop2.7.tgz\n"
          ],
          "name": "stdout"
        }
      ]
    },
    {
      "metadata": {
        "colab_type": "code",
        "id": "PeeOFy5cgDRq",
        "colab": {
          "base_uri": "https://localhost:8080/",
          "height": 204
        },
        "outputId": "81429dfc-c695-4342-8bc8-b1c52b7e2ba9"
      },
      "cell_type": "code",
      "source": [
        "rc.select(rc.IUCR).show(5)"
      ],
      "execution_count": 4,
      "outputs": [
        {
          "output_type": "stream",
          "text": [
            "+----+\n",
            "|IUCR|\n",
            "+----+\n",
            "|0460|\n",
            "|2825|\n",
            "|0810|\n",
            "|2820|\n",
            "|0460|\n",
            "+----+\n",
            "only showing top 5 rows\n",
            "\n"
          ],
          "name": "stdout"
        }
      ]
    },
    {
      "metadata": {
        "colab_type": "code",
        "id": "qLS_NEpEgDBJ",
        "colab": {
          "base_uri": "https://localhost:8080/",
          "height": 204
        },
        "outputId": "b4f839a9-3765-4c80-eef2-5203d4db9312"
      },
      "cell_type": "code",
      "source": [
        "rc.select('IUCR').show(5)"
      ],
      "execution_count": 6,
      "outputs": [
        {
          "output_type": "stream",
          "text": [
            "+----+\n",
            "|IUCR|\n",
            "+----+\n",
            "|0460|\n",
            "|2825|\n",
            "|0810|\n",
            "|2820|\n",
            "|0460|\n",
            "+----+\n",
            "only showing top 5 rows\n",
            "\n"
          ],
          "name": "stdout"
        }
      ]
    },
    {
      "metadata": {
        "colab_type": "code",
        "id": "E7NuMVpygC2h",
        "colab": {}
      },
      "cell_type": "code",
      "source": [
        ""
      ],
      "execution_count": 0,
      "outputs": []
    },
    {
      "metadata": {
        "colab_type": "text",
        "id": "A4u5vp73gEtB"
      },
      "cell_type": "markdown",
      "source": [
        "  **Display only the first 4 rows of the column names Case Number, Date and Arrest**"
      ]
    },
    {
      "metadata": {
        "colab_type": "code",
        "id": "ugRDxNwNgHNa",
        "colab": {
          "base_uri": "https://localhost:8080/",
          "height": 204
        },
        "outputId": "867f49c7-0994-4e2a-8195-2a3892f99b69"
      },
      "cell_type": "code",
      "source": [
        "rc.select('case Number', 'Date', 'Arrest').show(5)"
      ],
      "execution_count": 7,
      "outputs": [
        {
          "output_type": "stream",
          "text": [
            "+-----------+-------------------+------+\n",
            "|case Number|               Date|Arrest|\n",
            "+-----------+-------------------+------+\n",
            "|   HN501051|2007-07-31 19:01:52| false|\n",
            "|   HN514327|2007-08-06 18:00:00| false|\n",
            "|   HN508549|2007-08-03 20:00:00| false|\n",
            "|   HN514231|2007-08-03 15:00:00| false|\n",
            "|   HN507817|2007-08-04 01:34:58|  true|\n",
            "+-----------+-------------------+------+\n",
            "only showing top 5 rows\n",
            "\n"
          ],
          "name": "stdout"
        }
      ]
    },
    {
      "metadata": {
        "colab_type": "code",
        "id": "JkUF4yJFgG25",
        "colab": {}
      },
      "cell_type": "code",
      "source": [
        ""
      ],
      "execution_count": 0,
      "outputs": []
    },
    {
      "metadata": {
        "colab_type": "code",
        "id": "o3IB6VxLgGYi",
        "colab": {}
      },
      "cell_type": "code",
      "source": [
        ""
      ],
      "execution_count": 0,
      "outputs": []
    },
    {
      "metadata": {
        "colab_type": "text",
        "id": "GKnmLXJWr35c"
      },
      "cell_type": "markdown",
      "source": [
        "** Add a column with name One, with entries all 1s **"
      ]
    },
    {
      "metadata": {
        "colab_type": "code",
        "id": "_OhKvPoItNtK",
        "colab": {}
      },
      "cell_type": "code",
      "source": [
        "from pyspark.sql.functions import lit"
      ],
      "execution_count": 0,
      "outputs": []
    },
    {
      "metadata": {
        "colab_type": "code",
        "id": "dSA_eLl6uH3p",
        "colab": {
          "base_uri": "https://localhost:8080/",
          "height": 264
        },
        "outputId": "8c4bf443-6075-4647-d99a-a410baf1423a"
      },
      "cell_type": "code",
      "source": [
        "rc.withColumn('One', lit(1)).show(5)"
      ],
      "execution_count": 9,
      "outputs": [
        {
          "output_type": "stream",
          "text": [
            "+-------+-----------+-------------------+--------------------+----+-------------+--------------------+--------------------+------+--------+----+--------+----+--------------+--------+------------+------------+----+--------------------+------------+-------------+--------------------+---+\n",
            "|     ID|Case Number|               Date|               Block|IUCR| Primary Type|         Description|Location Description|Arrest|Domestic|Beat|District|Ward|Community Area|FBI Code|X Coordinate|Y Coordinate|Year|          Updated On|    Latitude|    Longitude|            Location|One|\n",
            "+-------+-----------+-------------------+--------------------+----+-------------+--------------------+--------------------+------+--------+----+--------+----+--------------+--------+------------+------------+----+--------------------+------------+-------------+--------------------+---+\n",
            "|5705297|   HN501051|2007-07-31 19:01:52|  038XX S KEDZIE AVE|0460|      BATTERY|              SIMPLE|              STREET| false|   false|0913|     009|  12|            58|     08B|     1155661|     1879148|2007|02/28/2018 03:56:...|41.824177767|-87.704441353|(41.824177767, -8...|  1|\n",
            "|5705300|   HN514327|2007-08-06 18:00:00|020XX N OAK PARK AVE|2825|OTHER OFFENSE|HARASSMENT BY TEL...|           RESIDENCE| false|    true|2512|     025|  36|            25|      26|     1130753|     1912894|2007|02/28/2018 03:56:...|41.917245786|-87.795046046|(41.917245786, -8...|  1|\n",
            "|5705302|   HN508549|2007-08-03 20:00:00|027XX N LAKE SHOR...|0810|        THEFT|           OVER $500|              STREET| false|   false|2333|     019|  43|             7|      06|     1173824|     1918570|2007|02/28/2018 03:56:...|41.931970101|-87.636633403|(41.931970101, -8...|  1|\n",
            "|5705306|   HN514231|2007-08-03 15:00:00|    100XX W OHARE ST|2820|OTHER OFFENSE|    TELEPHONE THREAT|    AIRPORT/AIRCRAFT| false|    true|1651|     016|  41|            76|      26|     1100658|     1934241|2007|02/28/2018 03:56:...|41.976290414|-87.905227221|(41.976290414, -8...|  1|\n",
            "|5705308|   HN507817|2007-08-04 01:34:58|     030XX W 25TH ST|0460|      BATTERY|              SIMPLE|              STREET|  true|   false|1033|     010|  12|            30|     08B|     1156675|     1887251|2007|02/28/2018 03:56:...| 41.84639294|-87.700502285|(41.84639294, -87...|  1|\n",
            "+-------+-----------+-------------------+--------------------+----+-------------+--------------------+--------------------+------+--------+----+--------+----+--------------+--------+------------+------------+----+--------------------+------------+-------------+--------------------+---+\n",
            "only showing top 5 rows\n",
            "\n"
          ],
          "name": "stdout"
        }
      ]
    },
    {
      "metadata": {
        "colab_type": "code",
        "id": "LsweBKZNuHzA",
        "colab": {}
      },
      "cell_type": "code",
      "source": [
        ""
      ],
      "execution_count": 0,
      "outputs": []
    },
    {
      "metadata": {
        "colab_type": "text",
        "id": "BKV2ymA2uI2h"
      },
      "cell_type": "markdown",
      "source": [
        "** Remove the column IUCR **"
      ]
    },
    {
      "metadata": {
        "colab_type": "code",
        "id": "3wr2Q9djtXBV",
        "colab": {}
      },
      "cell_type": "code",
      "source": [
        "rc = rc.drop('IUCR')\n"
      ],
      "execution_count": 0,
      "outputs": []
    },
    {
      "metadata": {
        "colab_type": "code",
        "id": "3HBJev2Ctdbo",
        "colab": {
          "base_uri": "https://localhost:8080/",
          "height": 264
        },
        "outputId": "9de4aed8-e74c-4ef1-fb56-438e3d9504eb"
      },
      "cell_type": "code",
      "source": [
        "rc.show(5)"
      ],
      "execution_count": 14,
      "outputs": [
        {
          "output_type": "stream",
          "text": [
            "+-------+-----------+-------------------+--------------------+-------------+--------------------+--------------------+------+--------+----+--------+----+--------------+--------+------------+------------+----+--------------------+------------+-------------+--------------------+\n",
            "|     ID|Case Number|               Date|               Block| Primary Type|         Description|Location Description|Arrest|Domestic|Beat|District|Ward|Community Area|FBI Code|X Coordinate|Y Coordinate|Year|          Updated On|    Latitude|    Longitude|            Location|\n",
            "+-------+-----------+-------------------+--------------------+-------------+--------------------+--------------------+------+--------+----+--------+----+--------------+--------+------------+------------+----+--------------------+------------+-------------+--------------------+\n",
            "|5705297|   HN501051|2007-07-31 19:01:52|  038XX S KEDZIE AVE|      BATTERY|              SIMPLE|              STREET| false|   false|0913|     009|  12|            58|     08B|     1155661|     1879148|2007|02/28/2018 03:56:...|41.824177767|-87.704441353|(41.824177767, -8...|\n",
            "|5705300|   HN514327|2007-08-06 18:00:00|020XX N OAK PARK AVE|OTHER OFFENSE|HARASSMENT BY TEL...|           RESIDENCE| false|    true|2512|     025|  36|            25|      26|     1130753|     1912894|2007|02/28/2018 03:56:...|41.917245786|-87.795046046|(41.917245786, -8...|\n",
            "|5705302|   HN508549|2007-08-03 20:00:00|027XX N LAKE SHOR...|        THEFT|           OVER $500|              STREET| false|   false|2333|     019|  43|             7|      06|     1173824|     1918570|2007|02/28/2018 03:56:...|41.931970101|-87.636633403|(41.931970101, -8...|\n",
            "|5705306|   HN514231|2007-08-03 15:00:00|    100XX W OHARE ST|OTHER OFFENSE|    TELEPHONE THREAT|    AIRPORT/AIRCRAFT| false|    true|1651|     016|  41|            76|      26|     1100658|     1934241|2007|02/28/2018 03:56:...|41.976290414|-87.905227221|(41.976290414, -8...|\n",
            "|5705308|   HN507817|2007-08-04 01:34:58|     030XX W 25TH ST|      BATTERY|              SIMPLE|              STREET|  true|   false|1033|     010|  12|            30|     08B|     1156675|     1887251|2007|02/28/2018 03:56:...| 41.84639294|-87.700502285|(41.84639294, -87...|\n",
            "+-------+-----------+-------------------+--------------------+-------------+--------------------+--------------------+------+--------+----+--------+----+--------------+--------+------------+------------+----+--------------------+------------+-------------+--------------------+\n",
            "only showing top 5 rows\n",
            "\n"
          ],
          "name": "stdout"
        }
      ]
    }
  ]
}